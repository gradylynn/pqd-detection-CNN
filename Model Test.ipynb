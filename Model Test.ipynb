{
 "cells": [
  {
   "cell_type": "code",
   "execution_count": 89,
   "metadata": {},
   "outputs": [],
   "source": [
    "import pqmodel"
   ]
  },
  {
   "cell_type": "code",
   "execution_count": 112,
   "metadata": {},
   "outputs": [],
   "source": [
    "import tensorflow as tf\n",
    "\n",
    "from tensorflow import keras\n",
    "\n",
    "model = tf.keras.Sequential()\n",
    "# Adds a densely-connected layer with 64 units to the model:\n",
    "model.add(layers.Dense(64, activation='relu'))\n",
    "# Add another:\n",
    "model.add(layers.Dense(64, activation='relu'))\n",
    "# Add a softmax layer with 10 output units:\n",
    "model.add(layers.Dense(29, activation='softmax'))\n",
    "\n",
    "model.compile(optimizer=tf.keras.optimizers.Adam(0.01),\n",
    "              loss='categorical_crossentropy',\n",
    "              metrics=['accuracy'])"
   ]
  },
  {
   "cell_type": "code",
   "execution_count": 113,
   "metadata": {},
   "outputs": [],
   "source": [
    "trainDF = pqmodel.pqmodel_df(num_samples=30)\n",
    "testDF = pqmodel.pqmodel_df(num_samples=10)"
   ]
  },
  {
   "cell_type": "code",
   "execution_count": 116,
   "metadata": {
    "scrolled": true
   },
   "outputs": [
    {
     "name": "stdout",
     "output_type": "stream",
     "text": [
      "Train on 870 samples, validate on 290 samples\n",
      "Epoch 1/10\n",
      "870/870 [==============================] - 0s 215us/sample - loss: 809140724.8184 - accuracy: 0.0000e+00 - val_loss: 835087404.1379 - val_accuracy: 0.0000e+00\n",
      "Epoch 2/10\n",
      "870/870 [==============================] - 0s 117us/sample - loss: 985056512.4414 - accuracy: 0.0000e+00 - val_loss: 1005677404.6897 - val_accuracy: 0.0000e+00\n",
      "Epoch 3/10\n",
      "870/870 [==============================] - 0s 111us/sample - loss: 1176635005.0575 - accuracy: 0.0000e+00 - val_loss: 1191969747.8621 - val_accuracy: 0.0000e+00\n",
      "Epoch 4/10\n",
      "870/870 [==============================] - 0s 114us/sample - loss: 1386196109.8299 - accuracy: 0.0000e+00 - val_loss: 1390377177.1586 - val_accuracy: 0.0000e+00\n",
      "Epoch 5/10\n",
      "870/870 [==============================] - 0s 103us/sample - loss: 1611084789.7011 - accuracy: 0.0000e+00 - val_loss: 1602066250.1517 - val_accuracy: 0.0000e+00\n",
      "Epoch 6/10\n",
      "870/870 [==============================] - 0s 96us/sample - loss: 1852541339.6598 - accuracy: 0.0000e+00 - val_loss: 1835478409.7103 - val_accuracy: 0.0000e+00\n",
      "Epoch 7/10\n",
      "870/870 [==============================] - 0s 95us/sample - loss: 2107819413.7747 - accuracy: 0.0000e+00 - val_loss: 2078822998.5103 - val_accuracy: 0.0000e+00\n",
      "Epoch 8/10\n",
      "870/870 [==============================] - 0s 111us/sample - loss: 2378784713.2690 - accuracy: 0.0000e+00 - val_loss: 2336142726.1793 - val_accuracy: 0.0000e+00\n",
      "Epoch 9/10\n",
      "870/870 [==============================] - 0s 108us/sample - loss: 2670878302.7494 - accuracy: 0.0000e+00 - val_loss: 2600887820.3586 - val_accuracy: 0.0000e+00\n",
      "Epoch 10/10\n",
      "870/870 [==============================] - 0s 100us/sample - loss: 2959518415.4483 - accuracy: 0.0000e+00 - val_loss: 2876898676.5241 - val_accuracy: 0.0000e+00\n"
     ]
    },
    {
     "data": {
      "text/plain": [
       "<tensorflow.python.keras.callbacks.History at 0x12e72b290>"
      ]
     },
     "execution_count": 116,
     "metadata": {},
     "output_type": "execute_result"
    }
   ],
   "source": [
    "data = np.asarray(trainDF[[f's{i}' for i in range(3200)]])\n",
    "labels = np.asarray(trainDF['class'])\n",
    "\n",
    "val_data = np.asarray(testDF[[f's{i}' for i in range(3200)]])\n",
    "val_labels = np.asarray(testDF['class'])\n",
    "\n",
    "model.fit(data, labels, validation_data=(val_data, val_labels), epochs=10, batch_size=32)"
   ]
  },
  {
   "cell_type": "code",
   "execution_count": 117,
   "metadata": {},
   "outputs": [
    {
     "name": "stdout",
     "output_type": "stream",
     "text": [
      "290/290 [==============================] - 0s 67us/sample - loss: 2876898676.5241 - accuracy: 0.0000e+00\n"
     ]
    },
    {
     "data": {
      "text/plain": [
       "[2876898676.524138, 0.0]"
      ]
     },
     "execution_count": 117,
     "metadata": {},
     "output_type": "execute_result"
    }
   ],
   "source": [
    "model.evaluate(val_data, val_labels, batch_size=32)"
   ]
  },
  {
   "cell_type": "code",
   "execution_count": null,
   "metadata": {},
   "outputs": [],
   "source": []
  }
 ],
 "metadata": {
  "kernelspec": {
   "display_name": "Python 3",
   "language": "python",
   "name": "python3"
  },
  "language_info": {
   "codemirror_mode": {
    "name": "ipython",
    "version": 3
   },
   "file_extension": ".py",
   "mimetype": "text/x-python",
   "name": "python",
   "nbconvert_exporter": "python",
   "pygments_lexer": "ipython3",
   "version": "3.7.6"
  }
 },
 "nbformat": 4,
 "nbformat_minor": 4
}
